{
 "cells": [
  {
   "cell_type": "code",
   "execution_count": 5,
   "metadata": {},
   "outputs": [
    {
     "name": "stdout",
     "output_type": "stream",
     "text": [
      "Accuracy Score for training data: 0.603917\n",
      "Accuracy Score for test data: 0.562500\n",
      "Mean squared error for training data: 0.500948\n",
      "Mean squared error for test data: 0.625000\n",
      "Coefficient of Determination for training data: 0.231284\n",
      "Coefficient of Determination for test data: -0.006289\n"
     ]
    }
   ],
   "source": [
    "# Import the usual\n",
    "import pandas as pd\n",
    "import numpy as np\n",
    "import matplotlib.pyplot as pyplot\n",
    "from sklearn.model_selection import train_test_split\n",
    "from sklearn.metrics import accuracy_score\n",
    "from sklearn.metrics import mean_squared_error, r2_score\n",
    "from sklearn import linear_model\n",
    "\n",
    "# Import wine quality\n",
    "red = pd.read_csv(\"winequality-red.csv\", sep=';')\n",
    "\n",
    "# Seperate out inputs and response\n",
    "y = red[\"quality\"]\n",
    "x = red[[\"fixed acidity\",\"volatile acidity\",\"citric acid\",\"residual sugar\",\"chlorides\",\"free sulfur dioxide\",\"total sulfur dioxide\",\"density\",\"pH\",\"sulphates\",\"alcohol\"]]\n",
    "\n",
    "# Create a test fraction\n",
    "test_size = 0.01\n",
    "# Create a seed for train_test_split from sklearn.model_selection\n",
    "seed = 352\n",
    "# Seperate out input and response testing and training data\n",
    "X_train, X_test, y_train, y_test =  train_test_split(x, y, test_size=test_size, random_state=seed)\n",
    "\n",
    "# Create model\n",
    "reg = linear_model.LogisticRegression(max_iter=10000)\n",
    "# Train model\n",
    "reg.fit(X_train, y_train)\n",
    "# Find predictions for test data:\n",
    "predictions_test = reg.predict(X_test)\n",
    "predictions_train = reg.predict(X_train)\n",
    "# Report metrics\n",
    "print('Accuracy Score for training data: %.6f' % accuracy_score(y_train, predictions_train))\n",
    "print('Accuracy Score for test data: %.6f' % accuracy_score(y_test, predictions_test))\n",
    "\n",
    "# Results\n",
    "# Accuracy Score for training data: 0.603917\n",
    "# Accuracy Score for test data: 0.562500\n",
    "\n",
    "\n",
    "# For this assigment I drew mainly from the documentation in scikit-learn, namely: https://scikit-learn.org/stable/modules/linear_model.html#logistic-regression\n",
    "# Here I drew from what my sparse experience with python, as well as the example for the linear regression tool also in the documentation in order to produce the work above. \n",
    "# I also found that the logistic regression model would run into the preset iteration limit for the solver chosen. I tested putting together a pipeline for scaling the data,\n",
    "# but found that simply increasing the number of iterations to a degree would seemingly bypass this issue. I did find that, as expected, the starting seed for train_test_split, \n",
    "# as well as the fraction of the sample taken for the test subset influenced the accuracy of the predictions a fair bit, due to the nature of choosing a test set. Further exploration\n",
    "# on the warmup excercise would be interesting, possibly in averaging out results for a range of test sets as well as random seeds."
   ]
  }
 ],
 "metadata": {
  "kernelspec": {
   "display_name": "base",
   "language": "python",
   "name": "python3"
  },
  "language_info": {
   "codemirror_mode": {
    "name": "ipython",
    "version": 3
   },
   "file_extension": ".py",
   "mimetype": "text/x-python",
   "name": "python",
   "nbconvert_exporter": "python",
   "pygments_lexer": "ipython3",
   "version": "3.11.4"
  },
  "orig_nbformat": 4
 },
 "nbformat": 4,
 "nbformat_minor": 2
}
