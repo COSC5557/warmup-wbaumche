{
 "cells": [
  {
   "cell_type": "code",
   "execution_count": 21,
   "metadata": {},
   "outputs": [
    {
     "name": "stdout",
     "output_type": "stream",
     "text": [
      "Mean squared error for training data: 0.416223\n",
      "Mean squared error for test data: 0.474954\n",
      "Coefficient of Determination for training data: 0.361297\n",
      "Coefficient of Determination for test data: 0.235295\n"
     ]
    }
   ],
   "source": [
    "# Import the usual\n",
    "import pandas as pd\n",
    "import numpy as np\n",
    "import matplotlib.pyplot as pyplot\n",
    "from sklearn.model_selection import train_test_split\n",
    "from sklearn.metrics import accuracy_score\n",
    "from sklearn.metrics import mean_squared_error, r2_score\n",
    "from sklearn import linear_model\n",
    "\n",
    "# Import wine quality\n",
    "red = pd.read_csv(\"winequality-red.csv\", sep=';')\n",
    "\n",
    "# Seperate out inputs and response\n",
    "y = red[\"quality\"]\n",
    "x = red[[\"fixed acidity\",\"volatile acidity\",\"citric acid\",\"residual sugar\",\"chlorides\",\"free sulfur dioxide\",\"total sulfur dioxide\",\"density\",\"pH\",\"sulphates\",\"alcohol\"]]\n",
    "\n",
    "# Create a test fraction\n",
    "test_size = 0.01\n",
    "# Create a seed for train_test_split from sklearn.model_selection\n",
    "seed = 352\n",
    "# Seperate out input and response testing and training data\n",
    "X_train, X_test, y_train, y_test =  train_test_split(x, y, test_size=test_size, random_state=seed)\n",
    "\n",
    "# Create model\n",
    "reg = linear_model.LinearRegression()\n",
    "# Train model\n",
    "reg.fit(X_train, y_train)\n",
    "# Find predictions for test data:\n",
    "predictions_test = reg.predict(X_test)\n",
    "predictions_train = reg.predict(X_train)\n",
    "# Report metrics\n",
    "print(\"Mean squared error for training data: %.6f\" % mean_squared_error(y_train, predictions_train))\n",
    "print(\"Mean squared error for test data: %.6f\" % mean_squared_error(y_test, predictions_test))\n",
    "print('Coefficient of Determination for training data: %.6f' % r2_score(y_train, predictions_train))\n",
    "print('Coefficient of Determination for test data: %.6f' % r2_score(y_test, predictions_test))\n",
    "\n",
    "# Results:\n",
    "# Mean squared error for training data: 0.416223\n",
    "# Mean squared error for test data: 0.474954\n",
    "# Coefficient of Determination for training data: 0.361297\n",
    "# Coefficient of Determination for test data: 0.235295\n",
    "\n",
    "# For this assignment I drew from the documentation in scikit-learn, namely https://scikit-learn.org/stable/modules/linear_model.html#, as well as the \n",
    "# example given for fitting a linear regression also in the documentation, https://scikit-learn.org/stable/auto_examples/linear_model/plot_ols.html#sphx-glr-auto-examples-linear-model-plot-ols-py\n",
    "# modifiying it as neccessary. I did find that, as expected, the starting seed for train_test_split, as well as the fraction of the sample taken for the \n",
    "# test subset influenced the accuracy of the predictions a fair bit, due to the nature of choosing a test set. Further exploration\n",
    "# on the warmup excercise would be interesting, possibly in averaging out results for a range of test sets as well as random seeds."
   ]
  }
 ],
 "metadata": {
  "kernelspec": {
   "display_name": "base",
   "language": "python",
   "name": "python3"
  },
  "language_info": {
   "codemirror_mode": {
    "name": "ipython",
    "version": 3
   },
   "file_extension": ".py",
   "mimetype": "text/x-python",
   "name": "python",
   "nbconvert_exporter": "python",
   "pygments_lexer": "ipython3",
   "version": "3.11.4"
  },
  "orig_nbformat": 4
 },
 "nbformat": 4,
 "nbformat_minor": 2
}
